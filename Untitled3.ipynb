{
 "cells": [
  {
   "cell_type": "markdown",
   "id": "b25e3356",
   "metadata": {},
   "source": [
    "pattern 8"
   ]
  },
  {
   "cell_type": "code",
   "execution_count": 2,
   "id": "873a30e6",
   "metadata": {},
   "outputs": [
    {
     "name": "stdout",
     "output_type": "stream",
     "text": [
      "6\n"
     ]
    }
   ],
   "source": [
    "n=int(input())\n",
    "count=1"
   ]
  },
  {
   "cell_type": "code",
   "execution_count": 3,
   "id": "540be8d4",
   "metadata": {},
   "outputs": [
    {
     "name": "stdout",
     "output_type": "stream",
     "text": [
      "1 \r\n",
      "2 3 \r\n",
      "4 5 6 \r\n",
      "7 8 9 10 \r\n",
      "11 12 13 14 15 \r\n",
      "16 17 18 19 20 21 \r\n"
     ]
    }
   ],
   "source": [
    "for i in range (1,n+1):\n",
    "    for j in range(i):\n",
    "        print(count,end=\" \")\n",
    "        count+=1\n",
    "    print(\"\\r\")\n",
    "        "
   ]
  },
  {
   "cell_type": "code",
   "execution_count": null,
   "id": "84c779c1",
   "metadata": {},
   "outputs": [],
   "source": [
    " "
   ]
  }
 ],
 "metadata": {
  "kernelspec": {
   "display_name": "Python 3 (ipykernel)",
   "language": "python",
   "name": "python3"
  },
  "language_info": {
   "codemirror_mode": {
    "name": "ipython",
    "version": 3
   },
   "file_extension": ".py",
   "mimetype": "text/x-python",
   "name": "python",
   "nbconvert_exporter": "python",
   "pygments_lexer": "ipython3",
   "version": "3.10.4"
  }
 },
 "nbformat": 4,
 "nbformat_minor": 5
}
