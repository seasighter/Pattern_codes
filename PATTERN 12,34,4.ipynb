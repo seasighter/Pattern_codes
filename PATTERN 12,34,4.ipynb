{
 "cells": [
  {
   "cell_type": "markdown",
   "id": "3a81647a",
   "metadata": {},
   "source": [
    "pattern furstrating"
   ]
  },
  {
   "cell_type": "code",
   "execution_count": 7,
   "id": "76ddf232",
   "metadata": {},
   "outputs": [
    {
     "name": "stdout",
     "output_type": "stream",
     "text": [
      "5\n",
      "    *\n",
      "   **\n",
      "  ***\n",
      " ****\n",
      "*****\n"
     ]
    }
   ],
   "source": [
    "n= int(input())\n",
    "row=1\n",
    "while row <= n:\n",
    "    space= n-row\n",
    "    while space>0:\n",
    "        print(\" \",end=\"\")\n",
    "        space-=1\n",
    "    #print(\"\\r\")\n",
    "    col=1\n",
    "    while col<=row:\n",
    "        print(\"*\",end=\"\")\n",
    "        col+=1\n",
    "    print(\"\\r\")\n",
    "    row+=1\n",
    "        "
   ]
  },
  {
   "cell_type": "markdown",
   "id": "9123de17",
   "metadata": {},
   "source": [
    "opposite of above "
   ]
  },
  {
   "cell_type": "code",
   "execution_count": 13,
   "id": "f9bfab51",
   "metadata": {},
   "outputs": [
    {
     "name": "stdout",
     "output_type": "stream",
     "text": [
      "4\n",
      "* * * * \n",
      "* * * \n",
      "* * \n",
      "* \n"
     ]
    }
   ],
   "source": [
    "n= int(input())\n",
    "i=1\n",
    "while i <= n:\n",
    "    j=0\n",
    "    while j<=(n-i):\n",
    "        print(\"*\",end=\" \")\n",
    "        j+=1\n",
    "    print(\"\\r\")\n",
    "    i+=1\n",
    "    "
   ]
  },
  {
   "cell_type": "code",
   "execution_count": 21,
   "id": "ac0ecbbe",
   "metadata": {},
   "outputs": [
    {
     "name": "stdout",
     "output_type": "stream",
     "text": [
      "4\n",
      "* * * * \n",
      "  * * * \n",
      "    * * \n",
      "      * \n"
     ]
    }
   ],
   "source": [
    "n= int(input())\n",
    "row=1\n",
    "while row <= n:\n",
    "    # printing spaces\n",
    "    space=row-1\n",
    "    while space > 0:\n",
    "        print(\" \",end=\" \")\n",
    "        space-=1\n",
    "    #print(\"\\r\")\n",
    "    col=1\n",
    "    while col <= n-row+1:\n",
    "        print(\"*\",end=\" \")\n",
    "        col+=1\n",
    "    print(\"\\r\") \n",
    "    row+=1\n",
    "        \n",
    "    "
   ]
  },
  {
   "cell_type": "code",
   "execution_count": null,
   "id": "97517d5c",
   "metadata": {},
   "outputs": [],
   "source": []
  },
  {
   "cell_type": "code",
   "execution_count": null,
   "id": "f5316494",
   "metadata": {},
   "outputs": [],
   "source": []
  }
 ],
 "metadata": {
  "kernelspec": {
   "display_name": "Python 3 (ipykernel)",
   "language": "python",
   "name": "python3"
  },
  "language_info": {
   "codemirror_mode": {
    "name": "ipython",
    "version": 3
   },
   "file_extension": ".py",
   "mimetype": "text/x-python",
   "name": "python",
   "nbconvert_exporter": "python",
   "pygments_lexer": "ipython3",
   "version": "3.10.4"
  }
 },
 "nbformat": 4,
 "nbformat_minor": 5
}
