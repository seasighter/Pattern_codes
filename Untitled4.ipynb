{
 "cells": [
  {
   "cell_type": "markdown",
   "id": "9da56313",
   "metadata": {},
   "source": [
    "pattern 9"
   ]
  },
  {
   "cell_type": "code",
   "execution_count": 6,
   "id": "c73f5ebf",
   "metadata": {},
   "outputs": [
    {
     "name": "stdout",
     "output_type": "stream",
     "text": [
      "4\n",
      "1 \n",
      "2 3 \n",
      "3 4 5 \n",
      "4 5 6 7 \n"
     ]
    }
   ],
   "source": [
    "n=int(input())\n",
    "for i in range (1,n+1):\n",
    "    var=i\n",
    "    for j in range(0,i):\n",
    "        print(var,end=\" \")\n",
    "        var+=1\n",
    "    print(\"\\r\")\n"
   ]
  },
  {
   "cell_type": "markdown",
   "id": "9fed1401",
   "metadata": {},
   "source": [
    "pattern 10"
   ]
  },
  {
   "cell_type": "code",
   "execution_count": 11,
   "id": "69d1262d",
   "metadata": {},
   "outputs": [
    {
     "name": "stdout",
     "output_type": "stream",
     "text": [
      "4\n",
      "1 \n",
      "2 3 \n",
      "3 4 5 \n",
      "4 5 6 7 \n"
     ]
    }
   ],
   "source": [
    "n=int(input())\n",
    "for i in range (1,n+1):\n",
    "    var=i\n",
    "    for j in range(0,i):\n",
    "        print(var,end=\" \")\n",
    "        var+=1\n",
    "    print(\"\\r\")"
   ]
  },
  {
   "cell_type": "markdown",
   "id": "27885f3b",
   "metadata": {},
   "source": [
    "second method without using addition var."
   ]
  },
  {
   "cell_type": "code",
   "execution_count": 3,
   "id": "bc509e9f",
   "metadata": {},
   "outputs": [
    {
     "name": "stdout",
     "output_type": "stream",
     "text": [
      "5\n",
      "1 \n",
      "2 3 \n",
      "3 4 5 \n",
      "4 5 6 7 \n",
      "5 6 7 8 9 \n"
     ]
    }
   ],
   "source": [
    "n=int(input())\n",
    "for i in range (1,n+1):\n",
    "    \n",
    "    for j in range(1,i+1):\n",
    "        print(i+j-1,end=\" \")\n",
    "          \n",
    "    print(\"\\r\")"
   ]
  },
  {
   "cell_type": "code",
   "execution_count": null,
   "id": "a4c9bfc8",
   "metadata": {},
   "outputs": [],
   "source": []
  }
 ],
 "metadata": {
  "kernelspec": {
   "display_name": "Python 3 (ipykernel)",
   "language": "python",
   "name": "python3"
  },
  "language_info": {
   "codemirror_mode": {
    "name": "ipython",
    "version": 3
   },
   "file_extension": ".py",
   "mimetype": "text/x-python",
   "name": "python",
   "nbconvert_exporter": "python",
   "pygments_lexer": "ipython3",
   "version": "3.10.4"
  }
 },
 "nbformat": 4,
 "nbformat_minor": 5
}
