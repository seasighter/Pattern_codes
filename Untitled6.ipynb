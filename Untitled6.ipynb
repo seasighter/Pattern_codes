{
 "cells": [
  {
   "cell_type": "markdown",
   "id": "59ad0bf6",
   "metadata": {},
   "source": [
    "pattern \n",
    "15"
   ]
  },
  {
   "cell_type": "code",
   "execution_count": null,
   "id": "a9d4197b",
   "metadata": {},
   "outputs": [],
   "source": [
    "\n",
    "n=int(input())\n",
    "row=1\n",
    "col=1\n",
    "while row <= n:\n",
    "    space = n - row\n",
    "    while(space>0):\n",
    "        print(\" \",end=\"\")\n",
    "        space-=1\n",
    "    print(\"\\r\")\n",
    "    #while col <= row:\n",
    "     #   print(\"*\",end=\"\")\n",
    "      #  col+=1\n",
    "    #print(\"\\r\")\n",
    "    #row+=1\n",
    "        "
   ]
  },
  {
   "cell_type": "markdown",
   "id": "c8274dd1",
   "metadata": {},
   "source": [
    "### "
   ]
  }
 ],
 "metadata": {
  "kernelspec": {
   "display_name": "Python 3 (ipykernel)",
   "language": "python",
   "name": "python3"
  },
  "language_info": {
   "codemirror_mode": {
    "name": "ipython",
    "version": 3
   },
   "file_extension": ".py",
   "mimetype": "text/x-python",
   "name": "python",
   "nbconvert_exporter": "python",
   "pygments_lexer": "ipython3",
   "version": "3.10.4"
  }
 },
 "nbformat": 4,
 "nbformat_minor": 5
}
