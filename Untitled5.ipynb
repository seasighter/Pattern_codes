{
 "cells": [
  {
   "cell_type": "markdown",
   "id": "704c6c2b",
   "metadata": {},
   "source": [
    "Pattern using ascii value"
   ]
  },
  {
   "cell_type": "code",
   "execution_count": 14,
   "id": "77756549",
   "metadata": {},
   "outputs": [
    {
     "name": "stdout",
     "output_type": "stream",
     "text": [
      "5\n",
      "A A A A A \n",
      "B B B B B \n",
      "C C C C C \n",
      "D D D D D \n",
      "E E E E E \n"
     ]
    }
   ],
   "source": [
    "n=int(input())\n",
    "a=65\n",
    "for i in range (1,n+1):\n",
    "    for j in range(0,n):\n",
    "        print(chr(a),end=\" \")\n",
    "    a+=1\n",
    "    print(\"\\r\")\n",
    "    "
   ]
  },
  {
   "cell_type": "markdown",
   "id": "da3442f3",
   "metadata": {},
   "source": [
    "pattern 12"
   ]
  },
  {
   "cell_type": "code",
   "execution_count": 24,
   "id": "adc7d147",
   "metadata": {},
   "outputs": [
    {
     "name": "stdout",
     "output_type": "stream",
     "text": [
      "3\n",
      "A B C \n",
      "D E F \n",
      "G H I \n"
     ]
    }
   ],
   "source": [
    "\n",
    "n=int(input())\n",
    "a=65\n",
    "for i in range (1,n+1):\n",
    "    for j in range(0,n):\n",
    "        print(chr(a),end=\" \")\n",
    "        a+=1\n",
    "    print(\"\\r\")\n",
    "    "
   ]
  },
  {
   "cell_type": "markdown",
   "id": "50c6a8cb",
   "metadata": {},
   "source": [
    "pattern 15\n"
   ]
  },
  {
   "cell_type": "code",
   "execution_count": 19,
   "id": "e9ad3260",
   "metadata": {},
   "outputs": [
    {
     "name": "stdout",
     "output_type": "stream",
     "text": [
      "5\n",
      "A B C D E \n",
      "A B C D E \n",
      "A B C D E \n",
      "A B C D E \n",
      "A B C D E \n"
     ]
    }
   ],
   "source": [
    "\n",
    "n=int(input())\n",
    "\n",
    "for i in range (1,n+1):\n",
    "    a=65\n",
    "    for j in range(0,n):\n",
    "        print(chr(a),end=\" \")\n",
    "        a+=1\n",
    "    print(\"\\r\")\n",
    "    "
   ]
  },
  {
   "cell_type": "markdown",
   "id": "f55d84f0",
   "metadata": {},
   "source": [
    "second method without using additional variable"
   ]
  },
  {
   "cell_type": "code",
   "execution_count": 22,
   "id": "ce091a15",
   "metadata": {},
   "outputs": [
    {
     "name": "stdout",
     "output_type": "stream",
     "text": [
      "5\n",
      "A B C D E \n",
      "A B C D E \n",
      "A B C D E \n",
      "A B C D E \n",
      "A B C D E \n"
     ]
    }
   ],
   "source": [
    "n=int(input())\n",
    "\n",
    "for i in range (1,n+1):\n",
    "    #a=65\n",
    "    for j in range(65,65+n):\n",
    "        print(chr(j),end=\" \")\n",
    "        #a+=1\n",
    "    print(\"\\r\")"
   ]
  },
  {
   "cell_type": "markdown",
   "id": "e1f5e007",
   "metadata": {},
   "source": [
    "pattern 16"
   ]
  },
  {
   "cell_type": "code",
   "execution_count": 3,
   "id": "efaebd13",
   "metadata": {},
   "outputs": [
    {
     "name": "stdout",
     "output_type": "stream",
     "text": [
      "4\n",
      "A B C D \n",
      "B C D E \n",
      "C D E F \n",
      "D E F G \n"
     ]
    }
   ],
   "source": [
    "n=int(input())\n",
    "a=65\n",
    "for i in range (0,n):\n",
    "    for j in range(0,n):\n",
    "        print(chr(a+j),end=\" \")\n",
    "    a+=1\n",
    "    print(\"\\r\")"
   ]
  },
  {
   "cell_type": "code",
   "execution_count": 5,
   "id": "58a37c80",
   "metadata": {},
   "outputs": [
    {
     "name": "stdout",
     "output_type": "stream",
     "text": [
      "4\n",
      "A \n",
      "B C \n",
      "D E F \n",
      "G H I J \n"
     ]
    }
   ],
   "source": [
    "n=int(input())\n",
    "a=65\n",
    "for i in range (1,n+1):\n",
    "    for j in range(0,i):\n",
    "        print(chr(a),end=\" \")\n",
    "        a+=1\n",
    "    print(\"\\r\")"
   ]
  },
  {
   "cell_type": "code",
   "execution_count": 11,
   "id": "dba5c0ad",
   "metadata": {},
   "outputs": [
    {
     "name": "stdout",
     "output_type": "stream",
     "text": [
      "3\n",
      "A \n",
      "A B \n",
      "A B C \n"
     ]
    }
   ],
   "source": [
    "n=int(input())\n",
    "a=65\n",
    "for i in range (1,n+1):\n",
    "    var=a\n",
    "    for j in range(0,i):\n",
    "        print(chr(var),end=\" \")\n",
    "        var+=1\n",
    "    print(\"\\r\")"
   ]
  },
  {
   "cell_type": "code",
   "execution_count": null,
   "id": "76c4c27d",
   "metadata": {},
   "outputs": [],
   "source": []
  }
 ],
 "metadata": {
  "kernelspec": {
   "display_name": "Python 3 (ipykernel)",
   "language": "python",
   "name": "python3"
  },
  "language_info": {
   "codemirror_mode": {
    "name": "ipython",
    "version": 3
   },
   "file_extension": ".py",
   "mimetype": "text/x-python",
   "name": "python",
   "nbconvert_exporter": "python",
   "pygments_lexer": "ipython3",
   "version": "3.10.4"
  }
 },
 "nbformat": 4,
 "nbformat_minor": 5
}
