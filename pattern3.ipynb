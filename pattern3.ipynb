{
 "cells": [
  {
   "cell_type": "markdown",
   "id": "b6dc4b6f",
   "metadata": {},
   "source": [
    "solution for patter using for loop\n",
    "1234\n",
    "1234\n",
    "1234\n",
    "1234"
   ]
  },
  {
   "cell_type": "code",
   "execution_count": 2,
   "id": "2c530ee0",
   "metadata": {},
   "outputs": [
    {
     "name": "stdout",
     "output_type": "stream",
     "text": [
      "4\n",
      "1234\n",
      "1234\n",
      "1234\n",
      "1234\n"
     ]
    }
   ],
   "source": [
    "n=int(input())\n",
    "for i in range (1,n+1):\n",
    "    for j in range(1,n+1):\n",
    "        print(j,end=\"\")\n",
    "    print(\"\\r\")"
   ]
  },
  {
   "cell_type": "markdown",
   "id": "429da07d",
   "metadata": {},
   "source": [
    "solution using while loop\n"
   ]
  },
  {
   "cell_type": "code",
   "execution_count": 4,
   "id": "99c76957",
   "metadata": {},
   "outputs": [
    {
     "name": "stdout",
     "output_type": "stream",
     "text": [
      "4\n",
      "1234\n",
      "1234\n",
      "1234\n",
      "1234\n"
     ]
    }
   ],
   "source": [
    "n=int(input())\n",
    "i=1\n",
    "while i <= n :\n",
    "    j=1\n",
    "    while j <= n:\n",
    "        print(j,end=\"\")\n",
    "        j+=1\n",
    "    i+=1\n",
    "    print(\"\\r\")"
   ]
  },
  {
   "cell_type": "code",
   "execution_count": null,
   "id": "4fbf13dc",
   "metadata": {},
   "outputs": [],
   "source": []
  }
 ],
 "metadata": {
  "kernelspec": {
   "display_name": "Python 3 (ipykernel)",
   "language": "python",
   "name": "python3"
  },
  "language_info": {
   "codemirror_mode": {
    "name": "ipython",
    "version": 3
   },
   "file_extension": ".py",
   "mimetype": "text/x-python",
   "name": "python",
   "nbconvert_exporter": "python",
   "pygments_lexer": "ipython3",
   "version": "3.10.4"
  }
 },
 "nbformat": 4,
 "nbformat_minor": 5
}
